{
 "cells": [
  {
   "cell_type": "markdown",
   "metadata": {},
   "source": [
    "# Гравитационная постоянная\n",
    "\n",
    "Измерения гравитационной константы, проведенные различными исследователями, выражаются интервалами, которые не пересекаются друг с другом. \n",
    "\n",
    "Конкретные числовые данные и ссылки на источники их получения читатель может найти в обобщенном виде в \n",
    "\n",
    "* Qing Li, Chao Xue, Jian-Ping Liu, et al. *Measurements of the gravitational constant using two independent methods* // Nature. 2018. Vol. 560. P. 582-588.  \n",
    "DOI: [10.1038/s41586-018-0431-5](http://doi.org/10.1038/s41586-018-0431-5) \n",
    "\n",
    "* G. Rosi, F. Sorrentino, L. Cacciapuoti, M. Prevedelli, G.M. Tino, *Precision Measurement of the Newtonian Gravitational Constant Using Cold Atoms.* // https://arxiv.org/pdf/1412.7954.pdf\n",
    "\n",
    "Оригинальные публикации: \n",
    "\n",
    "1. Gabriel G. Luther and William R. Towler *Redetermination of the Newtonian Gravitational Constant G* // Phys. Rev. Lett. 48, 121 – 18 January 1982.  \n",
    "DOI: [10.1103/PhysRevLett.48.121](http://doi.or/10.1103/PhysRevLett.48.121)\n",
    "\n",
    "2. Karagioz, O.V., Izmailov V.P. *Measurement of the gravitational constant with a torsion balance.* // Meas Tech 39, 979–987 (1996).  \n",
    "DOI: [10.1007/BF02377461](http://doi.or/10.1007/BF02377461)\n",
    "\n",
    "3. Charles H. Bagley and Gabriel G. Luther *Preliminary Results of a Determination of the Newtonian Constant of Gravitation: A Test of the Kuroda Hypothesis* // Phys. Rev. Lett. 78, 3047 – 21 April 1997  \n",
    "DOI: [10.1103/PhysRevLett.78.3047](http://doi.or/10.1103/PhysRevLett.78.3047)\n",
    "\n",
    "4. Jens H. Gundlach and Stephen M. Merkowitz *Measurement of Newton's Constant Using a Torsion Balance with Angular Acceleration Feedback* // Phys. Rev. Lett. 85, 2869 – 2 October 2000  \n",
    "DOI: [10.1103/PhysRevLett.85.2869](http://doi.or/10.1103/PhysRevLett.85.2869)\n",
    "\n",
    "5. Quinn, T. J., Speake, C. C., Richman, S. J., Davis, R.S.  Picard, A. *A new determination of G using two methods.* // Phys. Rev. Lett. 87, 111101 (2001).  \n",
    "DOI: [10.1103/PhysRevLett.87.111101](http://doi.or/10.1103/PhysRevLett.87.111101)\n",
    "\n",
    "6. Ulf Kleinevoss *Bestimmung der Newtonschen Gravitationskonstanten G.* Wuppertal Univ., Dissertation, 2002\n",
    "\n",
    "7. T. R. Armstrong and M. P. Fitzgerald} New *Measurements of G Using the Measurement Standards Laboratory Torsion Balance* // Phys. Rev. Lett. 91, 201101 – 13 November 2003  \n",
    "DOI: [10.1103/PhysRevLett.91.201101](http://doi.or/10.1103/PhysRevLett.91.201101)\n",
    "\n",
    "8. Hu, Z.-K., Guo, J.-Q., Luo, J. *Correction of source mass effects in the HUST-99 measurement of G.* // Phys. Rev. D 71, 127505 (2005).  \n",
    "DOI: [10.1103/PhysRevD.71.127505](http://doi.or/10.1103/PhysRevD.71.127505)\n",
    "\n",
    "9. St. Schlamminger, E. Holzschuh, W. Kündig, F. Nolting, R. E. Pixley, J. Schurr, and U. Straumann *Measurement of Newton’s gravitational constant* // Phys. Rev. D 74, 082001 – 4 October 2006  \n",
    "DOI: [10.1103/PhysRevD.74.082001](http://doi.or/10.1103/PhysRevD.74.082001)\n",
    "\n",
    "10. Jun Luo, Qi Liu, Liang-Cheng Tu, Cheng-Gang Shao, Lin-Xia Liu, Shan-Qing Yang, Qing Li, and Ya-Ting Zhang} *Determination of the Newtonian Gravitational Constant G with Time-of-Swing Method* // Phys. Rev. Lett. 102, 240801 – 16 June 2009  \n",
    "DOI: [10.1103/PhysRevLett.102.240801](http://doi.or/10.1103/PhysRevLett.102.240801)\n",
    "\n",
    "11. Harold V. Parks and James E. *Faller Simple Pendulum Determination of the Gravitational Constant* // Phys. Rev. Lett. 105, 110801 – 7 September 2010  \n",
    "DOI: [10.1103/PhysRevLett.105.110801](http://doi.or/10.1103/PhysRevLett.105.110801)\n",
    "\n",
    "12. Terry Quinn, Harold Parks, Clive Speake, and Richard Davis *Improved Determination of G Using Two Methods* // Phys. Rev. Lett. 111, 101102 – 5 September 2013  \n",
    "DOI: [10.1103/PhysRevLett.111.101102](http://doi.or/10.1103/PhysRevLett.111.101102)\n",
    "\n",
    "13. Li, Q., Xue, C., Liu, J. et al. *Measurements of the gravitational constant using two independent methods* // Nature 560, 582–588 (2018).  \n",
    "DOI: [10.1038/s41586-018-0431-5](http://doi.or/10.1038/s41586-018-0431-5)\n",
    "\n",
    "В работе 13 гравитационная константа измерена двумя методами, давшими несовместные измерения."
   ]
  },
  {
   "cell_type": "code",
   "execution_count": 1,
   "metadata": {},
   "outputs": [],
   "source": [
    "# Загрузка пакета для интервальных вычислений\n",
    "pkg load interval"
   ]
  },
  {
   "cell_type": "code",
   "execution_count": 2,
   "metadata": {},
   "outputs": [
    {
     "name": "stdout",
     "output_type": "stream",
     "text": [
      "G ⊂ 14×1 interval vector\r\n",
      "\r\n",
      "    [6.672, 6.6732]_com\r\n",
      "   [6.6723, 6.6735]_com\r\n",
      "   [6.6733, 6.6748]_com\r\n",
      "   [6.6741, 6.6744]_com\r\n",
      "    [6.6752, 6.676]_com\r\n",
      "   [6.6728, 6.6756]_com\r\n",
      "   [6.6735, 6.6742]_com\r\n",
      "   [6.6713, 6.6733]_com\r\n",
      "   [6.6742, 6.6743]_com\r\n",
      "   [6.6734, 6.6736]_com\r\n",
      "   [6.6722, 6.6725]_com\r\n",
      "   [6.6754, 6.6755]_com\r\n",
      "   [6.6741, 6.6742]_com\r\n",
      "   [6.6744, 6.6745]_com\r\n",
      "\r\n"
     ]
    }
   ],
   "source": [
    "# Исходные данные \n",
    "# Значение | Случайная погрешность | Систематическая погрешность\n",
    "gravity_data = [\n",
    "6.6726      0.0005     0       \n",
    "6.6729      0.0005     0       \n",
    "6.6740      0.0007     0       \n",
    "6.674215    0.000092   0       \n",
    "6.67559     0.00027    0.000041\n",
    "6.67422     0.00049    0.00085 \n",
    "6.67387     0.00027    0       \n",
    "6.6723      0.0009     0       \n",
    "6.674252    0.0000016  0.0000081\n",
    "6.6734918   0.000026   0        \n",
    "6.67234     0.00014    0        \n",
    "6.6754518   0.0000027  0        \n",
    "6.674184    0.00000116 0        \n",
    "6.674484    0.00000116 0        \n",
    "];\n",
    "\n",
    "gravity_mid = gravity_data(:,1); \n",
    "gravity_rad = gravity_data(:,2) + gravity_data(:,3); \n",
    "\n",
    "# Интервальные измерения\n",
    "G = midrad(gravity_mid, gravity_rad)"
   ]
  },
  {
   "cell_type": "code",
   "execution_count": 3,
   "metadata": {},
   "outputs": [
    {
     "data": {
      "image/png": "[encoded data removed]",
      "text/plain": [
       "<IPython.core.display.Image object>"
      ]
     },
     "metadata": {},
     "output_type": "display_data"
    }
   ],
   "source": [
    "# Графическое представление интервальных данных\n",
    "nums = 1:numel(G);\n",
    "vals = mid(G);\n",
    "err = rad(G);\n",
    "errorbar (nums, vals, err, err,\".\");\n",
    "legend (\"Intervals\");\n",
    "title (\"Interval measurements of gravity constant G\");"
   ]
  },
  {
   "cell_type": "code",
   "execution_count": 4,
   "metadata": {},
   "outputs": [
    {
     "name": "stdout",
     "output_type": "stream",
     "text": [
      "ans = [Empty]_trv\r\n"
     ]
    }
   ],
   "source": [
    "# Пересечение интервалов пусто, т.е. интервальная выборка несовместна\n",
    "intersect(G)"
   ]
  }
 ],
 "metadata": {
  "kernelspec": {
   "display_name": "Octave",
   "language": "octave",
   "name": "octave"
  },
  "language_info": {
   "file_extension": ".m",
   "help_links": [
    {
     "text": "GNU Octave",
     "url": "https://www.gnu.org/software/octave/support.html"
    },
    {
     "text": "Octave Kernel",
     "url": "https://github.com/Calysto/octave_kernel"
    },
    {
     "text": "MetaKernel Magics",
     "url": "https://metakernel.readthedocs.io/en/latest/source/README.html"
    }
   ],
   "mimetype": "text/x-octave",
   "name": "octave",
   "version": "4.2.2"
  }
 },
 "nbformat": 4,
 "nbformat_minor": 4
}
